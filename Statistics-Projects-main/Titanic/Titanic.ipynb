{
 "cells": [
  {
   "cell_type": "code",
   "execution_count": 1,
   "id": "97d08781-b520-46c4-bd61-6a5468ed5c0e",
   "metadata": {},
   "outputs": [],
   "source": [
    "import pandas as pd\n",
    "import matplotlib.pyplot as plt"
   ]
  },
  {
   "cell_type": "markdown",
   "id": "bec4afdd-9e8c-419c-9c8e-769fa542fc96",
   "metadata": {},
   "source": [
    "#### Analysis on \"Titanic\" data"
   ]
  },
  {
   "cell_type": "code",
   "execution_count": 70,
   "id": "9faa760d-9619-4413-b207-345eb41cfc39",
   "metadata": {},
   "outputs": [
    {
     "data": {
      "text/html": [
       "<div>\n",
       "<style scoped>\n",
       "    .dataframe tbody tr th:only-of-type {\n",
       "        vertical-align: middle;\n",
       "    }\n",
       "\n",
       "    .dataframe tbody tr th {\n",
       "        vertical-align: top;\n",
       "    }\n",
       "\n",
       "    .dataframe thead th {\n",
       "        text-align: right;\n",
       "    }\n",
       "</style>\n",
       "<table border=\"1\" class=\"dataframe\">\n",
       "  <thead>\n",
       "    <tr style=\"text-align: right;\">\n",
       "      <th></th>\n",
       "      <th>PassengerId</th>\n",
       "      <th>Survived</th>\n",
       "      <th>Pclass</th>\n",
       "      <th>Name</th>\n",
       "      <th>gender</th>\n",
       "      <th>Age</th>\n",
       "      <th>SibSp</th>\n",
       "      <th>Parch</th>\n",
       "      <th>Ticket</th>\n",
       "      <th>Fare</th>\n",
       "      <th>Cabin</th>\n",
       "      <th>Embarked</th>\n",
       "    </tr>\n",
       "  </thead>\n",
       "  <tbody>\n",
       "    <tr>\n",
       "      <th>0</th>\n",
       "      <td>1</td>\n",
       "      <td>0</td>\n",
       "      <td>3</td>\n",
       "      <td>Braund, Mr. Owen Harris</td>\n",
       "      <td>male</td>\n",
       "      <td>22.0</td>\n",
       "      <td>1</td>\n",
       "      <td>0</td>\n",
       "      <td>A/5 21171</td>\n",
       "      <td>7.2500</td>\n",
       "      <td>NaN</td>\n",
       "      <td>S</td>\n",
       "    </tr>\n",
       "    <tr>\n",
       "      <th>1</th>\n",
       "      <td>2</td>\n",
       "      <td>1</td>\n",
       "      <td>1</td>\n",
       "      <td>Cumings, Mrs. John Bradley (Florence Briggs Th...</td>\n",
       "      <td>female</td>\n",
       "      <td>38.0</td>\n",
       "      <td>1</td>\n",
       "      <td>0</td>\n",
       "      <td>PC 17599</td>\n",
       "      <td>71.2833</td>\n",
       "      <td>C85</td>\n",
       "      <td>C</td>\n",
       "    </tr>\n",
       "    <tr>\n",
       "      <th>2</th>\n",
       "      <td>3</td>\n",
       "      <td>1</td>\n",
       "      <td>3</td>\n",
       "      <td>Heikkinen, Miss. Laina</td>\n",
       "      <td>female</td>\n",
       "      <td>26.0</td>\n",
       "      <td>0</td>\n",
       "      <td>0</td>\n",
       "      <td>STON/O2. 3101282</td>\n",
       "      <td>7.9250</td>\n",
       "      <td>NaN</td>\n",
       "      <td>S</td>\n",
       "    </tr>\n",
       "    <tr>\n",
       "      <th>3</th>\n",
       "      <td>4</td>\n",
       "      <td>1</td>\n",
       "      <td>1</td>\n",
       "      <td>Futrelle, Mrs. Jacques Heath (Lily May Peel)</td>\n",
       "      <td>female</td>\n",
       "      <td>35.0</td>\n",
       "      <td>1</td>\n",
       "      <td>0</td>\n",
       "      <td>113803</td>\n",
       "      <td>53.1000</td>\n",
       "      <td>C123</td>\n",
       "      <td>S</td>\n",
       "    </tr>\n",
       "    <tr>\n",
       "      <th>4</th>\n",
       "      <td>5</td>\n",
       "      <td>0</td>\n",
       "      <td>3</td>\n",
       "      <td>Allen, Mr. William Henry</td>\n",
       "      <td>male</td>\n",
       "      <td>35.0</td>\n",
       "      <td>0</td>\n",
       "      <td>0</td>\n",
       "      <td>373450</td>\n",
       "      <td>8.0500</td>\n",
       "      <td>NaN</td>\n",
       "      <td>S</td>\n",
       "    </tr>\n",
       "    <tr>\n",
       "      <th>...</th>\n",
       "      <td>...</td>\n",
       "      <td>...</td>\n",
       "      <td>...</td>\n",
       "      <td>...</td>\n",
       "      <td>...</td>\n",
       "      <td>...</td>\n",
       "      <td>...</td>\n",
       "      <td>...</td>\n",
       "      <td>...</td>\n",
       "      <td>...</td>\n",
       "      <td>...</td>\n",
       "      <td>...</td>\n",
       "    </tr>\n",
       "    <tr>\n",
       "      <th>886</th>\n",
       "      <td>887</td>\n",
       "      <td>0</td>\n",
       "      <td>2</td>\n",
       "      <td>Montvila, Rev. Juozas</td>\n",
       "      <td>male</td>\n",
       "      <td>27.0</td>\n",
       "      <td>0</td>\n",
       "      <td>0</td>\n",
       "      <td>211536</td>\n",
       "      <td>13.0000</td>\n",
       "      <td>NaN</td>\n",
       "      <td>S</td>\n",
       "    </tr>\n",
       "    <tr>\n",
       "      <th>887</th>\n",
       "      <td>888</td>\n",
       "      <td>1</td>\n",
       "      <td>1</td>\n",
       "      <td>Graham, Miss. Margaret Edith</td>\n",
       "      <td>female</td>\n",
       "      <td>19.0</td>\n",
       "      <td>0</td>\n",
       "      <td>0</td>\n",
       "      <td>112053</td>\n",
       "      <td>30.0000</td>\n",
       "      <td>B42</td>\n",
       "      <td>S</td>\n",
       "    </tr>\n",
       "    <tr>\n",
       "      <th>888</th>\n",
       "      <td>889</td>\n",
       "      <td>0</td>\n",
       "      <td>3</td>\n",
       "      <td>Johnston, Miss. Catherine Helen \"Carrie\"</td>\n",
       "      <td>female</td>\n",
       "      <td>NaN</td>\n",
       "      <td>1</td>\n",
       "      <td>2</td>\n",
       "      <td>W./C. 6607</td>\n",
       "      <td>23.4500</td>\n",
       "      <td>NaN</td>\n",
       "      <td>S</td>\n",
       "    </tr>\n",
       "    <tr>\n",
       "      <th>889</th>\n",
       "      <td>890</td>\n",
       "      <td>1</td>\n",
       "      <td>1</td>\n",
       "      <td>Behr, Mr. Karl Howell</td>\n",
       "      <td>male</td>\n",
       "      <td>26.0</td>\n",
       "      <td>0</td>\n",
       "      <td>0</td>\n",
       "      <td>111369</td>\n",
       "      <td>30.0000</td>\n",
       "      <td>C148</td>\n",
       "      <td>C</td>\n",
       "    </tr>\n",
       "    <tr>\n",
       "      <th>890</th>\n",
       "      <td>891</td>\n",
       "      <td>0</td>\n",
       "      <td>3</td>\n",
       "      <td>Dooley, Mr. Patrick</td>\n",
       "      <td>male</td>\n",
       "      <td>32.0</td>\n",
       "      <td>0</td>\n",
       "      <td>0</td>\n",
       "      <td>370376</td>\n",
       "      <td>7.7500</td>\n",
       "      <td>NaN</td>\n",
       "      <td>Q</td>\n",
       "    </tr>\n",
       "  </tbody>\n",
       "</table>\n",
       "<p>891 rows × 12 columns</p>\n",
       "</div>"
      ],
      "text/plain": [
       "     PassengerId  Survived  Pclass  \\\n",
       "0              1         0       3   \n",
       "1              2         1       1   \n",
       "2              3         1       3   \n",
       "3              4         1       1   \n",
       "4              5         0       3   \n",
       "..           ...       ...     ...   \n",
       "886          887         0       2   \n",
       "887          888         1       1   \n",
       "888          889         0       3   \n",
       "889          890         1       1   \n",
       "890          891         0       3   \n",
       "\n",
       "                                                  Name  gender   Age  SibSp  \\\n",
       "0                              Braund, Mr. Owen Harris    male  22.0      1   \n",
       "1    Cumings, Mrs. John Bradley (Florence Briggs Th...  female  38.0      1   \n",
       "2                               Heikkinen, Miss. Laina  female  26.0      0   \n",
       "3         Futrelle, Mrs. Jacques Heath (Lily May Peel)  female  35.0      1   \n",
       "4                             Allen, Mr. William Henry    male  35.0      0   \n",
       "..                                                 ...     ...   ...    ...   \n",
       "886                              Montvila, Rev. Juozas    male  27.0      0   \n",
       "887                       Graham, Miss. Margaret Edith  female  19.0      0   \n",
       "888           Johnston, Miss. Catherine Helen \"Carrie\"  female   NaN      1   \n",
       "889                              Behr, Mr. Karl Howell    male  26.0      0   \n",
       "890                                Dooley, Mr. Patrick    male  32.0      0   \n",
       "\n",
       "     Parch            Ticket     Fare Cabin Embarked  \n",
       "0        0         A/5 21171   7.2500   NaN        S  \n",
       "1        0          PC 17599  71.2833   C85        C  \n",
       "2        0  STON/O2. 3101282   7.9250   NaN        S  \n",
       "3        0            113803  53.1000  C123        S  \n",
       "4        0            373450   8.0500   NaN        S  \n",
       "..     ...               ...      ...   ...      ...  \n",
       "886      0            211536  13.0000   NaN        S  \n",
       "887      0            112053  30.0000   B42        S  \n",
       "888      2        W./C. 6607  23.4500   NaN        S  \n",
       "889      0            111369  30.0000  C148        C  \n",
       "890      0            370376   7.7500   NaN        Q  \n",
       "\n",
       "[891 rows x 12 columns]"
      ]
     },
     "execution_count": 70,
     "metadata": {},
     "output_type": "execute_result"
    }
   ],
   "source": [
    "df=pd.read_csv(\"d:/dataset/analysis/titanic.csv\")\n",
    "df"
   ]
  },
  {
   "cell_type": "markdown",
   "id": "6f22fb5b-de65-48fb-b7a9-67855fa41309",
   "metadata": {},
   "source": [
    "#### Total number of pasengers"
   ]
  },
  {
   "cell_type": "code",
   "execution_count": 3,
   "id": "0a4be6e1-ba2f-4ba1-b594-785433b911b0",
   "metadata": {},
   "outputs": [
    {
     "data": {
      "text/plain": [
       "(891, 12)"
      ]
     },
     "execution_count": 3,
     "metadata": {},
     "output_type": "execute_result"
    }
   ],
   "source": [
    "df.shape"
   ]
  },
  {
   "cell_type": "markdown",
   "id": "3869eb47-3671-438f-823e-496e7f1e4b7b",
   "metadata": {},
   "source": [
    "#### Total number of Passengers according to Class wise"
   ]
  },
  {
   "cell_type": "code",
   "execution_count": 4,
   "id": "c80ddb86-64f1-42e1-9e39-ee8658656e8e",
   "metadata": {},
   "outputs": [
    {
     "data": {
      "text/plain": [
       "3    491\n",
       "1    216\n",
       "2    184\n",
       "Name: Pclass, dtype: int64"
      ]
     },
     "execution_count": 4,
     "metadata": {},
     "output_type": "execute_result"
    }
   ],
   "source": [
    "df.Pclass.value_counts()"
   ]
  },
  {
   "cell_type": "code",
   "execution_count": 8,
   "id": "cb131d8e-2e07-4b43-8735-2d5ad5114924",
   "metadata": {},
   "outputs": [
    {
     "data": {
      "image/png": "[encoded data removed]",
      "text/plain": [
       "<Figure size 640x480 with 1 Axes>"
      ]
     },
     "metadata": {},
     "output_type": "display_data"
    }
   ],
   "source": [
    "vc=df.Pclass.value_counts()\n",
    "plt.pie(x=vc.values,labels=vc.index,autopct=\"%.2f\",wedgeprops={'edgecolor':'k'},startangle=45)\n",
    "plt.title(\"Total Passenger\")\n",
    "plt.show()"
   ]
  },
  {
   "cell_type": "code",
   "execution_count": 9,
   "id": "5de018c9-edaa-4f97-b9dc-d4f22781526c",
   "metadata": {},
   "outputs": [],
   "source": [
    "#Total Survival of Passengers"
   ]
  },
  {
   "cell_type": "code",
   "execution_count": 10,
   "id": "0fe8b946-680b-4781-8b9f-8702fc68b507",
   "metadata": {},
   "outputs": [
    {
     "data": {
      "text/plain": [
       "(342, 12)"
      ]
     },
     "execution_count": 10,
     "metadata": {},
     "output_type": "execute_result"
    }
   ],
   "source": [
    "Srvd_psngr=df[df.Survived==1].shape\n",
    "Srvd_psngr"
   ]
  },
  {
   "cell_type": "code",
   "execution_count": 11,
   "id": "29da05fe-e5d8-41bd-8dc1-2804e6a543b3",
   "metadata": {},
   "outputs": [],
   "source": [
    "# Total deid of Passenger "
   ]
  },
  {
   "cell_type": "code",
   "execution_count": 12,
   "id": "1ff08d3c-d1ef-43ca-a10d-b43420d08d36",
   "metadata": {},
   "outputs": [
    {
     "data": {
      "text/plain": [
       "(549, 12)"
      ]
     },
     "execution_count": 12,
     "metadata": {},
     "output_type": "execute_result"
    }
   ],
   "source": [
    "died_psngr=df[df.Survived==0].shape\n",
    "died_psngr"
   ]
  },
  {
   "cell_type": "markdown",
   "id": "1033b93e-22bb-4bc4-9c89-07851f8b8fef",
   "metadata": {},
   "source": [
    "#### Total Survival & Unsurvival of Passengers according to Class wise\n",
    "     1.> Class 1st Survival "
   ]
  },
  {
   "cell_type": "code",
   "execution_count": 13,
   "id": "94d6468a-c14a-4357-ab1b-d77e89276126",
   "metadata": {},
   "outputs": [
    {
     "data": {
      "text/plain": [
       "(136, 12)"
      ]
     },
     "execution_count": 13,
     "metadata": {},
     "output_type": "execute_result"
    }
   ],
   "source": [
    "pclass_1=df[(df.Survived==1) & (df.Pclass==1)].shape\n",
    "pclass_1"
   ]
  },
  {
   "cell_type": "code",
   "execution_count": null,
   "id": "f61743fc-4f3d-418f-b6fb-62787b8ca803",
   "metadata": {},
   "outputs": [],
   "source": [
    "#  Class 1st Not Survival "
   ]
  },
  {
   "cell_type": "code",
   "execution_count": 14,
   "id": "735f5cde-9699-4ef3-9508-673c07041a9d",
   "metadata": {},
   "outputs": [
    {
     "data": {
      "text/plain": [
       "(80, 12)"
      ]
     },
     "execution_count": 14,
     "metadata": {},
     "output_type": "execute_result"
    }
   ],
   "source": [
    "pclass_1=df[(df.Survived==0) & (df.Pclass==1)].shape\n",
    "pclass_1"
   ]
  },
  {
   "cell_type": "markdown",
   "id": "aac01437-4954-44ed-9bac-02286e4ac83a",
   "metadata": {},
   "source": [
    "#### Class 2nd Survival "
   ]
  },
  {
   "cell_type": "code",
   "execution_count": 15,
   "id": "2e0d6ffd-0e57-4f0e-ad8f-3f695f630bcc",
   "metadata": {},
   "outputs": [
    {
     "data": {
      "text/plain": [
       "(87, 12)"
      ]
     },
     "execution_count": 15,
     "metadata": {},
     "output_type": "execute_result"
    }
   ],
   "source": [
    "pclass_2=df[(df.Survived==1) & (df.Pclass==2)].shape\n",
    "pclass_2"
   ]
  },
  {
   "cell_type": "code",
   "execution_count": 16,
   "id": "d4cadfd1-a197-43ee-89df-b58ac7cc67ad",
   "metadata": {},
   "outputs": [],
   "source": [
    "# Class 2nd not Survived"
   ]
  },
  {
   "cell_type": "code",
   "execution_count": 17,
   "id": "caaf9ebb-eccb-4a66-a1db-97596d965781",
   "metadata": {},
   "outputs": [
    {
     "data": {
      "text/plain": [
       "(97, 12)"
      ]
     },
     "execution_count": 17,
     "metadata": {},
     "output_type": "execute_result"
    }
   ],
   "source": [
    "pclass_2=df[(df.Survived==0) & (df.Pclass==2)].shape\n",
    "pclass_2"
   ]
  },
  {
   "cell_type": "markdown",
   "id": "8ca76cf0-2f3b-4006-99bd-f51f056c178e",
   "metadata": {},
   "source": [
    "#### Class 3rd Survival "
   ]
  },
  {
   "cell_type": "code",
   "execution_count": 18,
   "id": "7810fec1-5b7c-41b5-ae1f-33207716575d",
   "metadata": {},
   "outputs": [
    {
     "data": {
      "text/plain": [
       "(119, 12)"
      ]
     },
     "execution_count": 18,
     "metadata": {},
     "output_type": "execute_result"
    }
   ],
   "source": [
    "pclass_3=df[(df.Survived==1) & (df.Pclass==3)].shape\n",
    "pclass_3"
   ]
  },
  {
   "cell_type": "code",
   "execution_count": null,
   "id": "32e14a89-eda0-4b2f-acb1-8c65451cea15",
   "metadata": {},
   "outputs": [],
   "source": [
    "# Class 3rd Not Survived"
   ]
  },
  {
   "cell_type": "code",
   "execution_count": 19,
   "id": "f53bb7e7-f2ef-4c8f-a2ac-183690c388a6",
   "metadata": {},
   "outputs": [
    {
     "data": {
      "text/plain": [
       "(372, 12)"
      ]
     },
     "execution_count": 19,
     "metadata": {},
     "output_type": "execute_result"
    }
   ],
   "source": [
    "pclass_3=df[(df.Survived==0) & (df.Pclass==3)].shape\n",
    "pclass_3"
   ]
  },
  {
   "cell_type": "markdown",
   "id": "aab246f1-e656-480b-adaa-cb5bc61cd830",
   "metadata": {},
   "source": [
    "#### Class Wise Survived & Unsurvived Report"
   ]
  },
  {
   "cell_type": "code",
   "execution_count": 20,
   "id": "e10d4a48-73c5-465a-8630-74cdf3d2716f",
   "metadata": {},
   "outputs": [
    {
     "data": {
      "text/html": [
       "<div>\n",
       "<style scoped>\n",
       "    .dataframe tbody tr th:only-of-type {\n",
       "        vertical-align: middle;\n",
       "    }\n",
       "\n",
       "    .dataframe tbody tr th {\n",
       "        vertical-align: top;\n",
       "    }\n",
       "\n",
       "    .dataframe thead th {\n",
       "        text-align: right;\n",
       "    }\n",
       "</style>\n",
       "<table border=\"1\" class=\"dataframe\">\n",
       "  <thead>\n",
       "    <tr style=\"text-align: right;\">\n",
       "      <th></th>\n",
       "      <th></th>\n",
       "      <th>Survived</th>\n",
       "    </tr>\n",
       "    <tr>\n",
       "      <th>Pclass</th>\n",
       "      <th>Survived</th>\n",
       "      <th></th>\n",
       "    </tr>\n",
       "  </thead>\n",
       "  <tbody>\n",
       "    <tr>\n",
       "      <th rowspan=\"2\" valign=\"top\">1</th>\n",
       "      <th>0</th>\n",
       "      <td>80</td>\n",
       "    </tr>\n",
       "    <tr>\n",
       "      <th>1</th>\n",
       "      <td>136</td>\n",
       "    </tr>\n",
       "    <tr>\n",
       "      <th rowspan=\"2\" valign=\"top\">2</th>\n",
       "      <th>0</th>\n",
       "      <td>97</td>\n",
       "    </tr>\n",
       "    <tr>\n",
       "      <th>1</th>\n",
       "      <td>87</td>\n",
       "    </tr>\n",
       "    <tr>\n",
       "      <th rowspan=\"2\" valign=\"top\">3</th>\n",
       "      <th>0</th>\n",
       "      <td>372</td>\n",
       "    </tr>\n",
       "    <tr>\n",
       "      <th>1</th>\n",
       "      <td>119</td>\n",
       "    </tr>\n",
       "  </tbody>\n",
       "</table>\n",
       "</div>"
      ],
      "text/plain": [
       "                 Survived\n",
       "Pclass Survived          \n",
       "1      0               80\n",
       "       1              136\n",
       "2      0               97\n",
       "       1               87\n",
       "3      0              372\n",
       "       1              119"
      ]
     },
     "execution_count": 20,
     "metadata": {},
     "output_type": "execute_result"
    }
   ],
   "source": [
    "pclass=df.groupby(by=['Pclass',\"Survived\"])[[\"Survived\"]].count()\n",
    "pclass"
   ]
  },
  {
   "cell_type": "markdown",
   "id": "b34428e3-3c69-4200-8a2a-0d6a8dd9d919",
   "metadata": {},
   "source": [
    "#### Total Percentage wise Survival from all the classes"
   ]
  },
  {
   "cell_type": "code",
   "execution_count": 21,
   "id": "4e16533a-67c1-4aa3-91c2-f5d8c8fcdc50",
   "metadata": {},
   "outputs": [
    {
     "data": {
      "text/html": [
       "<div>\n",
       "<style scoped>\n",
       "    .dataframe tbody tr th:only-of-type {\n",
       "        vertical-align: middle;\n",
       "    }\n",
       "\n",
       "    .dataframe tbody tr th {\n",
       "        vertical-align: top;\n",
       "    }\n",
       "\n",
       "    .dataframe thead th {\n",
       "        text-align: right;\n",
       "    }\n",
       "</style>\n",
       "<table border=\"1\" class=\"dataframe\">\n",
       "  <thead>\n",
       "    <tr style=\"text-align: right;\">\n",
       "      <th></th>\n",
       "      <th>Percantage</th>\n",
       "    </tr>\n",
       "  </thead>\n",
       "  <tbody>\n",
       "    <tr>\n",
       "      <th>1</th>\n",
       "      <td>62.96</td>\n",
       "    </tr>\n",
       "    <tr>\n",
       "      <th>2</th>\n",
       "      <td>47.28</td>\n",
       "    </tr>\n",
       "    <tr>\n",
       "      <th>3</th>\n",
       "      <td>53.49</td>\n",
       "    </tr>\n",
       "  </tbody>\n",
       "</table>\n",
       "</div>"
      ],
      "text/plain": [
       "   Percantage\n",
       "1       62.96\n",
       "2       47.28\n",
       "3       53.49"
      ]
     },
     "execution_count": 21,
     "metadata": {},
     "output_type": "execute_result"
    }
   ],
   "source": [
    "list=[round((136/216)*100,2),round((87/184)*100,2),round((199/372)*100,2)]\n",
    "Sur_report=pd.DataFrame(list,columns=['Percantage'],index=[1,2,3])\n",
    "Sur_report"
   ]
  },
  {
   "cell_type": "markdown",
   "id": "196078dd-8c21-462a-86c5-fb896145cb7d",
   "metadata": {},
   "source": [
    "#### Total Survival of Passengers Gender wise "
   ]
  },
  {
   "cell_type": "code",
   "execution_count": 30,
   "id": "d257481a-010d-49fa-9235-381ec9bcbeeb",
   "metadata": {},
   "outputs": [
    {
     "data": {
      "text/plain": [
       "male      577\n",
       "female    314\n",
       "Name: gender, dtype: int64"
      ]
     },
     "execution_count": 30,
     "metadata": {},
     "output_type": "execute_result"
    }
   ],
   "source": [
    "df.gender.value_counts()"
   ]
  },
  {
   "cell_type": "code",
   "execution_count": 32,
   "id": "9863c0c9-2341-458a-9e91-774b64a6507a",
   "metadata": {},
   "outputs": [
    {
     "data": {
      "text/plain": [
       "(109, 12)"
      ]
     },
     "execution_count": 32,
     "metadata": {},
     "output_type": "execute_result"
    }
   ],
   "source": [
    "# Survived Male \n",
    "df[(df.Survived==1) & (df.gender==\"male\")].shape "
   ]
  },
  {
   "cell_type": "code",
   "execution_count": 33,
   "id": "4b1f8bef-905f-4327-baab-0064e9a05688",
   "metadata": {},
   "outputs": [
    {
     "data": {
      "text/plain": [
       "(468, 12)"
      ]
     },
     "execution_count": 33,
     "metadata": {},
     "output_type": "execute_result"
    }
   ],
   "source": [
    "# Unsurvived Male\n",
    "df[(df.Survived==0) & (df.gender==\"male\")].shape"
   ]
  },
  {
   "cell_type": "code",
   "execution_count": 34,
   "id": "f5fa483a-dbd6-47d9-a6f7-c6e5bc4be802",
   "metadata": {},
   "outputs": [
    {
     "data": {
      "text/plain": [
       "(233, 12)"
      ]
     },
     "execution_count": 34,
     "metadata": {},
     "output_type": "execute_result"
    }
   ],
   "source": [
    "# Survived Female\n",
    "df[(df.Survived==1) & (df.gender==\"female\")].shape"
   ]
  },
  {
   "cell_type": "code",
   "execution_count": 35,
   "id": "2a1d359c-8ef6-4a94-aaf3-d5f54a38558e",
   "metadata": {},
   "outputs": [
    {
     "data": {
      "text/plain": [
       "(81, 12)"
      ]
     },
     "execution_count": 35,
     "metadata": {},
     "output_type": "execute_result"
    }
   ],
   "source": [
    "# UnSurvived Female\n",
    "df[(df.Survived==0) & (df.gender==\"female\")].shape"
   ]
  },
  {
   "cell_type": "markdown",
   "id": "35ef7ae5-e287-40be-b79d-a36c1ba08e03",
   "metadata": {},
   "source": [
    "#### Total Survived Ratio:-\n",
    "    Male Survival : 19%\n",
    "    Female Survival:74%"
   ]
  },
  {
   "cell_type": "markdown",
   "id": "c1333929-d29c-433d-87d6-5cb755001dd6",
   "metadata": {},
   "source": [
    "#### Analysis according to Age wise summary"
   ]
  },
  {
   "cell_type": "markdown",
   "id": "51ac5b6b-9708-47e1-990c-c678d05ab426",
   "metadata": {},
   "source": [
    "#### 01. Children "
   ]
  },
  {
   "cell_type": "code",
   "execution_count": 37,
   "id": "d8106527-d4d6-432d-9fd2-f2ef20c45840",
   "metadata": {},
   "outputs": [
    {
     "data": {
      "text/plain": [
       "(64, 12)"
      ]
     },
     "execution_count": 37,
     "metadata": {},
     "output_type": "execute_result"
    }
   ],
   "source": [
    "## Total Children\n",
    "df[(df.Age>=0) & (df.Age<=10)].shape"
   ]
  },
  {
   "cell_type": "code",
   "execution_count": 38,
   "id": "880e35be-e8ef-4522-8d18-c6336c7e470b",
   "metadata": {},
   "outputs": [
    {
     "data": {
      "text/plain": [
       "(38, 12)"
      ]
     },
     "execution_count": 38,
     "metadata": {},
     "output_type": "execute_result"
    }
   ],
   "source": [
    "## Survived \n",
    "df[(df.Age>=0) & (df.Age<=10) & (df.Survived==1)].shape"
   ]
  },
  {
   "cell_type": "code",
   "execution_count": 39,
   "id": "a5c8062c-9e6e-4aa0-871e-1483d2ef8aba",
   "metadata": {},
   "outputs": [
    {
     "data": {
      "text/plain": [
       "(26, 12)"
      ]
     },
     "execution_count": 39,
     "metadata": {},
     "output_type": "execute_result"
    }
   ],
   "source": [
    "# Unsurvived\n",
    "df[(df.Age>=0) & (df.Age<=10) & (df.Survived==0)].shape"
   ]
  },
  {
   "cell_type": "markdown",
   "id": "aa6e6e83-7c2a-4afa-960f-9c878b9b6fbe",
   "metadata": {},
   "source": [
    "#### Total Survival Ratio:\n",
    "        Survived   : 61% \n",
    "        Unsurvived : 39%\n",
    "\n"
   ]
  },
  {
   "cell_type": "markdown",
   "id": "15733d8d-b6a3-4418-9000-a42132275d7d",
   "metadata": {},
   "source": [
    "#### 02. Adult"
   ]
  },
  {
   "cell_type": "code",
   "execution_count": 43,
   "id": "ce5cc4fe-a8ca-476f-b751-1508f29fed67",
   "metadata": {},
   "outputs": [
    {
     "data": {
      "text/plain": [
       "(624, 12)"
      ]
     },
     "execution_count": 43,
     "metadata": {},
     "output_type": "execute_result"
    }
   ],
   "source": [
    "## Total Adult\n",
    "df[(df.Age>=11) & (df.Age<=59)].shape"
   ]
  },
  {
   "cell_type": "code",
   "execution_count": 41,
   "id": "517d5309-b14c-4b26-9c36-b369f57854e0",
   "metadata": {},
   "outputs": [
    {
     "data": {
      "text/plain": [
       "(245, 12)"
      ]
     },
     "execution_count": 41,
     "metadata": {},
     "output_type": "execute_result"
    }
   ],
   "source": [
    "## Total Survived\n",
    "df[(df.Age>=11) & (df.Age<=59) & (df.Survived==1)].shape"
   ]
  },
  {
   "cell_type": "code",
   "execution_count": 42,
   "id": "a8b865e2-5b60-4477-9087-923fcea96362",
   "metadata": {},
   "outputs": [
    {
     "data": {
      "text/plain": [
       "(379, 12)"
      ]
     },
     "execution_count": 42,
     "metadata": {},
     "output_type": "execute_result"
    }
   ],
   "source": [
    "## Total Unsurvived\n",
    "df[(df.Age>=11) & (df.Age<=59) & (df.Survived==0)].shape"
   ]
  },
  {
   "cell_type": "markdown",
   "id": "344ba2be-f0b8-4290-8baa-67353f65b2ac",
   "metadata": {},
   "source": [
    "#### Total Survival Ratio:\n",
    "        Survived   : 40% \n",
    "        Unsurvived : 60%"
   ]
  },
  {
   "cell_type": "markdown",
   "id": "15af1838-5041-407b-b713-ea12e2f561e3",
   "metadata": {},
   "source": [
    "#### 02. Senior Citizen"
   ]
  },
  {
   "cell_type": "code",
   "execution_count": 50,
   "id": "859af8ab-6305-45a0-9a25-4f465492b825",
   "metadata": {},
   "outputs": [
    {
     "data": {
      "text/plain": [
       "(26, 12)"
      ]
     },
     "execution_count": 50,
     "metadata": {},
     "output_type": "execute_result"
    }
   ],
   "source": [
    "# Total Senior Citizen including Male & Female\n",
    "df[(df.Age>=60)].shape"
   ]
  },
  {
   "cell_type": "code",
   "execution_count": 47,
   "id": "3d09d87c-8c78-4eba-a817-aaae216dddd8",
   "metadata": {},
   "outputs": [
    {
     "data": {
      "text/plain": [
       "(7, 12)"
      ]
     },
     "execution_count": 47,
     "metadata": {},
     "output_type": "execute_result"
    }
   ],
   "source": [
    "# Total Survival\n",
    "df[(df.Age>=60) & (df.Survived==1)].shape"
   ]
  },
  {
   "cell_type": "code",
   "execution_count": 48,
   "id": "781dca79-54a5-42cf-b018-6f59cc10d85c",
   "metadata": {},
   "outputs": [
    {
     "data": {
      "text/plain": [
       "(19, 12)"
      ]
     },
     "execution_count": 48,
     "metadata": {},
     "output_type": "execute_result"
    }
   ],
   "source": [
    "# Total unsurvival\n",
    "df[(df.Age>=60) & (df.Survived==0)].shape"
   ]
  },
  {
   "cell_type": "markdown",
   "id": "5dd7a77b-f12f-4281-ac77-6014795ca324",
   "metadata": {},
   "source": [
    "#### Total Survival Ratio:\n",
    "        Survived   : 27% \n",
    "        Unsurvived : 73%"
   ]
  },
  {
   "cell_type": "markdown",
   "id": "c66ca1bb-aab6-4b73-b443-18f6ef8223b8",
   "metadata": {},
   "source": [
    "##### Female Survival from Senior Citizen"
   ]
  },
  {
   "cell_type": "code",
   "execution_count": 49,
   "id": "26f72e55-4e20-4004-a0d5-7a26c6201517",
   "metadata": {},
   "outputs": [
    {
     "data": {
      "text/plain": [
       "(4, 12)"
      ]
     },
     "execution_count": 49,
     "metadata": {},
     "output_type": "execute_result"
    }
   ],
   "source": [
    "df[(df.Age>=60) & (df.Survived==1) & (df.gender==\"female\")].shape"
   ]
  },
  {
   "cell_type": "code",
   "execution_count": 51,
   "id": "e9275255-1baf-4563-b32f-493cfa4011ea",
   "metadata": {},
   "outputs": [
    {
     "data": {
      "text/plain": [
       "(3, 12)"
      ]
     },
     "execution_count": 51,
     "metadata": {},
     "output_type": "execute_result"
    }
   ],
   "source": [
    "df[(df.Age>=60) & (df.Survived==1) & (df.gender==\"male\")].shape"
   ]
  },
  {
   "cell_type": "code",
   "execution_count": 52,
   "id": "6fa9b1fa-5210-4a99-aadf-411eaf6d450f",
   "metadata": {},
   "outputs": [
    {
     "data": {
      "text/plain": [
       "(5, 12)"
      ]
     },
     "execution_count": 52,
     "metadata": {},
     "output_type": "execute_result"
    }
   ],
   "source": [
    "# How many were from Class 1st\n",
    "df[(df.Age>=60) & (df.Survived==1) & (df.Pclass==1)].shape"
   ]
  },
  {
   "cell_type": "markdown",
   "id": "b66e8e8f-6f6a-4b4a-a19a-0f51cd1eaebf",
   "metadata": {},
   "source": [
    "#### Find all those Passengers who went alone "
   ]
  },
  {
   "cell_type": "code",
   "execution_count": 57,
   "id": "f6a93b19-b9ff-47ae-9920-3115467b091e",
   "metadata": {},
   "outputs": [
    {
     "data": {
      "text/plain": [
       "(537, 12)"
      ]
     },
     "execution_count": 57,
     "metadata": {},
     "output_type": "execute_result"
    }
   ],
   "source": [
    "df[(df.SibSp==0) & (df.Parch==0)].shape"
   ]
  },
  {
   "cell_type": "code",
   "execution_count": 58,
   "id": "8344917b-fc1d-4d14-b055-3340aedbf159",
   "metadata": {},
   "outputs": [
    {
     "data": {
      "text/plain": [
       "(163, 12)"
      ]
     },
     "execution_count": 58,
     "metadata": {},
     "output_type": "execute_result"
    }
   ],
   "source": [
    "# Total Survival\n",
    "df[(df.SibSp==0) & (df.Parch==0) & (df.Survived==1)].shape"
   ]
  },
  {
   "cell_type": "markdown",
   "id": "3de5e4da-4b88-4d2a-8197-58d20727ba88",
   "metadata": {},
   "source": [
    "#### Total survival of Male and Female from class 1st. "
   ]
  },
  {
   "cell_type": "code",
   "execution_count": 59,
   "id": "818eaab2-2e47-48f2-9a43-39196e8d7bbb",
   "metadata": {},
   "outputs": [
    {
     "data": {
      "text/plain": [
       "(122, 12)"
      ]
     },
     "execution_count": 59,
     "metadata": {},
     "output_type": "execute_result"
    }
   ],
   "source": [
    "# Total Male Passenger\n",
    "df[(df.Pclass==1) & (df.gender=='male')].shape"
   ]
  },
  {
   "cell_type": "code",
   "execution_count": 60,
   "id": "299936dc-3fb0-4bff-97be-f3c473971d08",
   "metadata": {},
   "outputs": [
    {
     "data": {
      "text/plain": [
       "(45, 12)"
      ]
     },
     "execution_count": 60,
     "metadata": {},
     "output_type": "execute_result"
    }
   ],
   "source": [
    "# Total Male Survival\n",
    "df[(df.Pclass==1) & (df.Survived==1) & (df.gender==\"male\")].shape"
   ]
  },
  {
   "cell_type": "code",
   "execution_count": 61,
   "id": "00d56100-3ec9-4d3c-9f44-5654b9a97305",
   "metadata": {},
   "outputs": [
    {
     "data": {
      "text/plain": [
       "(94, 12)"
      ]
     },
     "execution_count": 61,
     "metadata": {},
     "output_type": "execute_result"
    }
   ],
   "source": [
    "# Total Female Passenger\n",
    "df[(df.Pclass==1) & (df.gender==\"female\")].shape"
   ]
  },
  {
   "cell_type": "code",
   "execution_count": 62,
   "id": "c1a75d94-d1ed-4d4a-a3dc-31772a4cf05f",
   "metadata": {},
   "outputs": [
    {
     "data": {
      "text/plain": [
       "(91, 12)"
      ]
     },
     "execution_count": 62,
     "metadata": {},
     "output_type": "execute_result"
    }
   ],
   "source": [
    "# Total Female Survival\n",
    "df[(df.Pclass==1) & (df.Survived==1) & (df.gender=='female')].shape"
   ]
  },
  {
   "cell_type": "markdown",
   "id": "3ba45a1e-b48d-4edf-a338-80cd025a78f1",
   "metadata": {},
   "source": [
    "#### Find Passengers whose information was missing :"
   ]
  },
  {
   "cell_type": "code",
   "execution_count": 63,
   "id": "b6332e41-d4b4-4244-b867-c538dbe6f8c4",
   "metadata": {},
   "outputs": [
    {
     "data": {
      "text/plain": [
       "PassengerId      0\n",
       "Survived         0\n",
       "Pclass           0\n",
       "Name             0\n",
       "gender           0\n",
       "Age            177\n",
       "SibSp            0\n",
       "Parch            0\n",
       "Ticket           0\n",
       "Fare             0\n",
       "Cabin          687\n",
       "Embarked         2\n",
       "dtype: int64"
      ]
     },
     "execution_count": 63,
     "metadata": {},
     "output_type": "execute_result"
    }
   ],
   "source": [
    "df.isnull().sum()"
   ]
  },
  {
   "cell_type": "code",
   "execution_count": 65,
   "id": "acb59a6c-f528-4332-9691-68bcab2c828a",
   "metadata": {},
   "outputs": [
    {
     "data": {
      "text/plain": [
       "714"
      ]
     },
     "execution_count": 65,
     "metadata": {},
     "output_type": "execute_result"
    }
   ],
   "source": [
    "# Find the sum of all the age isnot missing \n",
    "df.Age.notnull().sum()"
   ]
  },
  {
   "cell_type": "code",
   "execution_count": 67,
   "id": "705118b8-85e2-4cba-bdbc-9aa99ff3703a",
   "metadata": {},
   "outputs": [
    {
     "data": {
      "text/plain": [
       "204"
      ]
     },
     "execution_count": 67,
     "metadata": {},
     "output_type": "execute_result"
    }
   ],
   "source": [
    "# All whose information was given in Cabin\n",
    "df.Cabin.notnull().sum()"
   ]
  },
  {
   "cell_type": "code",
   "execution_count": 68,
   "id": "71ed2c6e-a51e-4e1b-865f-bf248dc2e6d4",
   "metadata": {},
   "outputs": [
    {
     "data": {
      "text/plain": [
       "889"
      ]
     },
     "execution_count": 68,
     "metadata": {},
     "output_type": "execute_result"
    }
   ],
   "source": [
    "# All those who Embarked from origin\n",
    "df.Embarked.notnull().sum()"
   ]
  },
  {
   "cell_type": "code",
   "execution_count": 69,
   "id": "40e8c344-11a1-4196-ad63-b0f4abaa2cce",
   "metadata": {},
   "outputs": [
    {
     "data": {
      "text/plain": [
       "(714, 12)"
      ]
     },
     "execution_count": 69,
     "metadata": {},
     "output_type": "execute_result"
    }
   ],
   "source": [
    "# Now we have to find all certified Passengers who were submitted their all details \n",
    "df.dropna(axis=0,subset=[\"Age\",\"gender\",\"Pclass\",\"Survived\"]).shape"
   ]
  },
  {
   "cell_type": "markdown",
   "id": "e7dc472a-d021-40bc-ad94-07c22906d608",
   "metadata": {},
   "source": [
    "#### Discription :"
   ]
  },
  {
   "cell_type": "markdown",
   "id": "3f8d8c7c-69b3-4dff-8a50-489d733c16d4",
   "metadata": {},
   "source": [
    "##### We have find total 891 passengers were gone in Titanic. But in that data 714 passengers were there who had\n",
    "##### subbmitted their Age and Gender details and 177 were didn't give their proper infomation \n"
   ]
  },
  {
   "cell_type": "code",
   "execution_count": null,
   "id": "e58a6368-42a8-40db-a9a4-157a8d972ecb",
   "metadata": {},
   "outputs": [],
   "source": []
  }
 ],
 "metadata": {
  "kernelspec": {
   "display_name": "Python 3 (ipykernel)",
   "language": "python",
   "name": "python3"
  },
  "language_info": {
   "codemirror_mode": {
    "name": "ipython",
    "version": 3
   },
   "file_extension": ".py",
   "mimetype": "text/x-python",
   "name": "python",
   "nbconvert_exporter": "python",
   "pygments_lexer": "ipython3",
   "version": "3.10.9"
  }
 },
 "nbformat": 4,
 "nbformat_minor": 5
}
